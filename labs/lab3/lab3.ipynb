{
 "cells": [
  {
   "cell_type": "code",
   "execution_count": 1,
   "metadata": {
    "deletable": false,
    "editable": false
   },
   "outputs": [],
   "source": [
    "# Initialize Otter\n",
    "import otter\n",
    "grader = otter.Notebook(\"lab3.ipynb\")"
   ]
  },
  {
   "cell_type": "code",
   "execution_count": 2,
   "metadata": {
    "execution": {
     "iopub.execute_input": "2023-09-26T17:03:47.228777Z",
     "iopub.status.busy": "2023-09-26T17:03:47.228548Z",
     "iopub.status.idle": "2023-09-26T17:03:47.859240Z",
     "shell.execute_reply": "2023-09-26T17:03:47.858655Z"
    }
   },
   "outputs": [],
   "source": [
    "import numpy as np\n",
    "import matplotlib.pyplot as plt\n",
    "import pickle\n",
    "import scipy.stats as stats"
   ]
  },
  {
   "cell_type": "markdown",
   "metadata": {},
   "source": [
    "---\n",
    "\n",
    "<h1><center>SDSE Lab 3 <br><br> K-means clustering </center></h1>\n",
    "\n",
    "---"
   ]
  },
  {
   "cell_type": "markdown",
   "metadata": {},
   "source": [
    "# 1) Load the data\n",
    "We load the dataset from the file `'data2d.pickle'`. The data matrix is called `X`. Save the number of samples (rows) as `N` and the number of features (columns) as `D`."
   ]
  },
  {
   "cell_type": "code",
   "execution_count": 3,
   "metadata": {
    "execution": {
     "iopub.execute_input": "2023-09-26T17:03:47.861918Z",
     "iopub.status.busy": "2023-09-26T17:03:47.861681Z",
     "iopub.status.idle": "2023-09-26T17:03:47.868252Z",
     "shell.execute_reply": "2023-09-26T17:03:47.867710Z"
    },
    "tags": []
   },
   "outputs": [],
   "source": [
    "with open('data2d.pickle','rb') as f:    # TODO\n",
    "    X = pickle.load(f)    # TODO\n",
    "N = X.shape[0]    # TODO\n",
    "D = X.shape[1]    # TODO\n",
    "#print(f'N={N}, D={D}')\n",
    "#print(X)"
   ]
  },
  {
   "cell_type": "code",
   "execution_count": 4,
   "metadata": {
    "deletable": false,
    "editable": false
   },
   "outputs": [
    {
     "data": {
      "text/html": [
       "<p><strong><pre style='display: inline;'>q1</pre></strong> passed! 🎉</p>"
      ],
      "text/plain": [
       "q1 results: All test cases passed!"
      ]
     },
     "execution_count": 4,
     "metadata": {},
     "output_type": "execute_result"
    }
   ],
   "source": [
    "grader.check(\"q1\")"
   ]
  },
  {
   "cell_type": "markdown",
   "metadata": {},
   "source": [
    "# 2) Scatter plot\n",
    "Create a scatter plot with the first column of `X` along the x-axis and the second column along the y-axis. Use `plt.axis('equal')` to force the two axes to have the same scale. This is important for correct visualization of the Euclidean distances between points. Your figure should look like the one below.\n",
    "\n",
    "Food for thought: How many clusters do you see?\n",
    "\n",
    "<img src=\"2.png\" />"
   ]
  },
  {
   "cell_type": "code",
   "execution_count": 5,
   "metadata": {
    "execution": {
     "iopub.execute_input": "2023-09-26T17:03:47.902941Z",
     "iopub.status.busy": "2023-09-26T17:03:47.902772Z",
     "iopub.status.idle": "2023-09-26T17:03:48.049037Z",
     "shell.execute_reply": "2023-09-26T17:03:48.048367Z"
    },
    "tags": []
   },
   "outputs": [
    {
     "data": {
      "text/plain": [
       "(-11.849664686869328,\n",
       " 1.873188199333136,\n",
       " -6.398006044898596,\n",
       " 10.829062019026559)"
      ]
     },
     "execution_count": 5,
     "metadata": {},
     "output_type": "execute_result"
    },
    {
     "data": {
      "image/png": "[encoded data removed]",
      "text/plain": [
       "<Figure size 500x500 with 1 Axes>"
      ]
     },
     "metadata": {},
     "output_type": "display_data"
    }
   ],
   "source": [
    "fig, ax = plt.subplots(figsize=(5,5))\n",
    "plt.scatter(X[:,0],X[:,1], s=10)\n",
    "plt.axis('equal')  \n",
    "\n",
    "# TODO"
   ]
  },
  {
   "cell_type": "markdown",
   "metadata": {},
   "source": [
    "# 3) Random placement of centroids\n",
    "Write a function that takes an integer `K` and the data matrix `X` as inputs, and returns `K` centroids randomly placed within the box spanned by the columns of `X`. The shape of the return value should be `(K,D)`. \n",
    "\n",
    "The template also takes a third optional parameter. This is used by the autograder to ensure repeatable results. \n",
    "\n",
    "**Note**: You should use `stats.uniform.rvs(loc=..., scale=..., size=...)` to generate random centroid placements. "
   ]
  },
  {
   "cell_type": "code",
   "execution_count": 6,
   "metadata": {
    "execution": {
     "iopub.execute_input": "2023-09-26T17:03:48.051449Z",
     "iopub.status.busy": "2023-09-26T17:03:48.051248Z",
     "iopub.status.idle": "2023-09-26T17:03:48.056544Z",
     "shell.execute_reply": "2023-09-26T17:03:48.056003Z"
    },
    "tags": []
   },
   "outputs": [],
   "source": [
    "def initialize_centroids(K,X,random_seed=None):\n",
    "    if random_seed is not None:\n",
    "        np.random.seed(seed=random_seed)\n",
    "    D = X.shape[1]\n",
    "    C = np.empty((K,D))\n",
    "    for i in range(D):\n",
    "        C[:,i] = stats.uniform.rvs(loc = np.min(X[:,i]), scale = np.max(X[:,i])-np.min(X[:,i]), size = K)\n",
    "    # TODO\n",
    "    return C"
   ]
  },
  {
   "cell_type": "code",
   "execution_count": 7,
   "metadata": {
    "execution": {
     "iopub.execute_input": "2023-09-26T17:03:48.058514Z",
     "iopub.status.busy": "2023-09-26T17:03:48.058339Z",
     "iopub.status.idle": "2023-09-26T17:03:48.061392Z",
     "shell.execute_reply": "2023-09-26T17:03:48.060919Z"
    },
    "tags": []
   },
   "outputs": [],
   "source": [
    "C4 = initialize_centroids(4,X,random_seed=234)\n",
    "C8 = initialize_centroids(8,X,random_seed=154)"
   ]
  },
  {
   "cell_type": "code",
   "execution_count": 8,
   "metadata": {
    "deletable": false,
    "editable": false
   },
   "outputs": [
    {
     "data": {
      "text/html": [
       "<p><strong><pre style='display: inline;'>q3</pre></strong> passed! 🍀</p>"
      ],
      "text/plain": [
       "q3 results: All test cases passed!"
      ]
     },
     "execution_count": 8,
     "metadata": {},
     "output_type": "execute_result"
    }
   ],
   "source": [
    "grader.check(\"q3\")"
   ]
  },
  {
   "cell_type": "markdown",
   "metadata": {},
   "source": [
    "# 4) Compute the assignment for given centroids\n",
    "Write a function that takes the data matrix `X` (shape `(N,D)`) and centroid locations `C` (shape `(K,D)`) as inputs, and returns an assignment matrix `gamma`. `gamma` should be a numpy array with shape `(N,K)`. Each row of `gamma` should contain `K-1` `False` values and one `True` value in the position corresponding to the centroid that is nearest to that data point (Euclidean distance). Hint: `np.argmin`."
   ]
  },
  {
   "cell_type": "code",
   "execution_count": 9,
   "metadata": {
    "execution": {
     "iopub.execute_input": "2023-09-26T17:03:48.076068Z",
     "iopub.status.busy": "2023-09-26T17:03:48.075886Z",
     "iopub.status.idle": "2023-09-26T17:03:48.080565Z",
     "shell.execute_reply": "2023-09-26T17:03:48.080008Z"
    },
    "tags": []
   },
   "outputs": [],
   "source": [
    "def euc_dist(point1, point2):\n",
    "        return np.sqrt(np.sum((point1-point2)**2, axis=1)) # axis=1 to sum column-wise\n",
    "\n",
    "def assign_samples_to_nearest_centroid(X,C):\n",
    "    N = X.shape[0]  # TODO\n",
    "    K = C.shape[0]  # TODO\n",
    "    gamma = np.zeros((N,K),dtype=bool)  # Initialized to all False\n",
    "    \n",
    "    for n in range(N):\n",
    "        dist = euc_dist(X[n], C)\n",
    "        idx_nearest = np.argmin(dist)\n",
    "        gamma[n,idx_nearest] = 1\n",
    "    \n",
    "    # TODO\n",
    "    return gamma"
   ]
  },
  {
   "cell_type": "code",
   "execution_count": 10,
   "metadata": {
    "execution": {
     "iopub.execute_input": "2023-09-26T17:03:48.082541Z",
     "iopub.status.busy": "2023-09-26T17:03:48.082368Z",
     "iopub.status.idle": "2023-09-26T17:03:48.086871Z",
     "shell.execute_reply": "2023-09-26T17:03:48.086399Z"
    },
    "tags": []
   },
   "outputs": [],
   "source": [
    "gamma4 = assign_samples_to_nearest_centroid(X,C4)\n",
    "gamma8 = assign_samples_to_nearest_centroid(X,C8)"
   ]
  },
  {
   "cell_type": "code",
   "execution_count": 11,
   "metadata": {
    "deletable": false,
    "editable": false
   },
   "outputs": [
    {
     "data": {
      "text/html": [
       "<p><strong><pre style='display: inline;'>q4</pre></strong> passed! 🚀</p>"
      ],
      "text/plain": [
       "q4 results: All test cases passed!"
      ]
     },
     "execution_count": 11,
     "metadata": {},
     "output_type": "execute_result"
    }
   ],
   "source": [
    "grader.check(\"q4\")"
   ]
  },
  {
   "cell_type": "markdown",
   "metadata": {},
   "source": [
    "# 5) Plot data, centroids, assignment\n",
    "Write a function that takes as input the data matrix `X`, a centroids matrix `C`, and an assignment matrix `gamma`, and creates a scatter plot similar to the one shown here. The centroids should be indicated with a large dot, and the data samples should be color-coded according to their cluster membership. Your plot may not look identical to this one due to the random placement of the centroids.\n",
    "\n",
    "<img src=\"5.png\" />\n"
   ]
  },
  {
   "cell_type": "code",
   "execution_count": 12,
   "metadata": {
    "execution": {
     "iopub.execute_input": "2023-09-26T17:03:48.114643Z",
     "iopub.status.busy": "2023-09-26T17:03:48.114132Z",
     "iopub.status.idle": "2023-09-26T17:03:48.119335Z",
     "shell.execute_reply": "2023-09-26T17:03:48.118932Z"
    },
    "tags": []
   },
   "outputs": [],
   "source": [
    "def plot_scatter(X, C, gamma):\n",
    "    K = C.shape[0]  \n",
    "    \n",
    "    # TODO\n",
    "    fig, ax = plt.subplots(figsize=(5,5))\n",
    "    for k in range(K):\n",
    "        idx = np.where(gamma[:,k] == True)[:][0]\n",
    "        ax.plot(X[idx,0],X[idx,1],'.', markersize=10)  # plot data assigned to cluster k\n",
    "    ax.plot(C[:,0],C[:,1], 'o', markersize=10)  # plot the centroids\n",
    "    ax.axis('equal')"
   ]
  },
  {
   "cell_type": "code",
   "execution_count": 13,
   "metadata": {
    "execution": {
     "iopub.execute_input": "2023-09-26T17:03:48.121344Z",
     "iopub.status.busy": "2023-09-26T17:03:48.121176Z",
     "iopub.status.idle": "2023-09-26T17:03:48.262466Z",
     "shell.execute_reply": "2023-09-26T17:03:48.261809Z"
    },
    "tags": []
   },
   "outputs": [
    {
     "data": {
      "image/png": "[encoded data removed]",
      "text/plain": [
       "<Figure size 500x500 with 1 Axes>"
      ]
     },
     "metadata": {},
     "output_type": "display_data"
    }
   ],
   "source": [
    "plot_scatter(X, C4, gamma4)"
   ]
  },
  {
   "cell_type": "markdown",
   "metadata": {},
   "source": [
    "# 6) Compute the centroids for a given assignment\n",
    "Write a function that takes the assignment `gamma` and the data matrix `X` and returns centroids placed at the mean of each cluster. The return value should be a numpy array with shape `(K,D)`."
   ]
  },
  {
   "cell_type": "code",
   "execution_count": 14,
   "metadata": {
    "execution": {
     "iopub.execute_input": "2023-09-26T17:03:48.265111Z",
     "iopub.status.busy": "2023-09-26T17:03:48.264935Z",
     "iopub.status.idle": "2023-09-26T17:03:48.269384Z",
     "shell.execute_reply": "2023-09-26T17:03:48.268893Z"
    },
    "tags": []
   },
   "outputs": [],
   "source": [
    "def place_centroids(gamma, X):\n",
    "    K = gamma.shape[1]\n",
    "    D = X.shape[1]\n",
    "    C = np.empty((K,D))\n",
    "    for k in range(K):\n",
    "        idx = np.where(gamma[:,k] == True)[:][0]    \n",
    "        C[k,0] = np.mean(X[idx,0])\n",
    "        C[k,1] = np.mean(X[idx,1])\n",
    "        \n",
    "    # TODO\n",
    "    return C"
   ]
  },
  {
   "cell_type": "code",
   "execution_count": 15,
   "metadata": {
    "execution": {
     "iopub.execute_input": "2023-09-26T17:03:48.271373Z",
     "iopub.status.busy": "2023-09-26T17:03:48.271212Z",
     "iopub.status.idle": "2023-09-26T17:03:48.275660Z",
     "shell.execute_reply": "2023-09-26T17:03:48.275062Z"
    },
    "tags": []
   },
   "outputs": [
    {
     "name": "stderr",
     "output_type": "stream",
     "text": [
      "/Users/jisupark/Library/CloudStorage/Dropbox/Grad-PhD/Course/Courses_Fall23/EN178/EN178_Lab/sdse_env/lib/python3.9/site-packages/numpy/core/fromnumeric.py:3504: RuntimeWarning: Mean of empty slice.\n",
      "  return _methods._mean(a, axis=axis, dtype=dtype,\n",
      "/Users/jisupark/Library/CloudStorage/Dropbox/Grad-PhD/Course/Courses_Fall23/EN178/EN178_Lab/sdse_env/lib/python3.9/site-packages/numpy/core/_methods.py:129: RuntimeWarning: invalid value encountered in scalar divide\n",
      "  ret = ret.dtype.type(ret / rcount)\n"
     ]
    }
   ],
   "source": [
    "newC4 = place_centroids(gamma4, X)\n",
    "newC8 = place_centroids(gamma8, X)"
   ]
  },
  {
   "cell_type": "code",
   "execution_count": 16,
   "metadata": {
    "deletable": false,
    "editable": false
   },
   "outputs": [
    {
     "data": {
      "text/html": [
       "<p><strong><pre style='display: inline;'>q6</pre></strong> passed! 🍀</p>"
      ],
      "text/plain": [
       "q6 results: All test cases passed!"
      ]
     },
     "execution_count": 16,
     "metadata": {},
     "output_type": "execute_result"
    }
   ],
   "source": [
    "grader.check(\"q6\")"
   ]
  },
  {
   "cell_type": "markdown",
   "metadata": {},
   "source": [
    "# 7) Code K-means\n",
    "Now we will implement the K-means algorithm using the methods that we've coded so far. Implement the K-means algorithm described in class. \n",
    "\n",
    "The function `run_kmeans` takes the dataset `X` and initial centroids `C` as input. It returns the final placement of the centroids `C`, and the assignment matrix `gamma`. There are two stopping conditions:\n",
    "+ Stop and return `C=None` and `gamma=None` if any of the clusters becomes empty. \n",
    "+ Stop if the assignment matrix does not change from one iteration to the next. "
   ]
  },
  {
   "cell_type": "code",
   "execution_count": 17,
   "metadata": {
    "execution": {
     "iopub.execute_input": "2023-09-26T17:03:48.296378Z",
     "iopub.status.busy": "2023-09-26T17:03:48.296123Z",
     "iopub.status.idle": "2023-09-26T17:03:48.301504Z",
     "shell.execute_reply": "2023-09-26T17:03:48.300917Z"
    },
    "tags": []
   },
   "outputs": [],
   "source": [
    "def run_kmeans(X,C):\n",
    "\n",
    "    done = False\n",
    "    first = True\n",
    "\n",
    "    while not done:\n",
    "        \n",
    "        # compute assignment (E step)\n",
    "        gamma = assign_samples_to_nearest_centroid(X,C)\n",
    "        \n",
    "        # place centroids (M step)\n",
    "        C = place_centroids(gamma,X)\n",
    "        \n",
    "        # Break if any of the clusters are empty\n",
    "        # Return C=None and gamma=None\n",
    "        valid = np.prod(np.sum(gamma, axis=0)) # valid = not 0 if all clusters are non-empty, 0 otherwise\n",
    "        if not valid:\n",
    "            C = None\n",
    "            gamma = None\n",
    "            done = True\n",
    "            \n",
    "        # Break if there is no change in the assignment\n",
    "        if first==True:\n",
    "            pass\n",
    "        elif np.array_equal(gammaold, gamma):\n",
    "            done = True\n",
    "            \n",
    "        # update gamma\n",
    "        gammaold = gamma\n",
    "        first = False\n",
    "            \n",
    "    return C, gamma"
   ]
  },
  {
   "cell_type": "code",
   "execution_count": 18,
   "metadata": {
    "execution": {
     "iopub.execute_input": "2023-09-26T17:03:48.303707Z",
     "iopub.status.busy": "2023-09-26T17:03:48.303428Z",
     "iopub.status.idle": "2023-09-26T17:03:48.312612Z",
     "shell.execute_reply": "2023-09-26T17:03:48.312080Z"
    },
    "tags": []
   },
   "outputs": [],
   "source": [
    "optC4, optgamma4 = run_kmeans(X,C4)\n",
    "optC8, optgamma8 = run_kmeans(X,C8)"
   ]
  },
  {
   "cell_type": "code",
   "execution_count": 19,
   "metadata": {
    "deletable": false,
    "editable": false
   },
   "outputs": [
    {
     "data": {
      "text/html": [
       "<p><strong><pre style='display: inline;'>q7</pre></strong> passed! 🍀</p>"
      ],
      "text/plain": [
       "q7 results: All test cases passed!"
      ]
     },
     "execution_count": 19,
     "metadata": {},
     "output_type": "execute_result"
    }
   ],
   "source": [
    "grader.check(\"q7\")"
   ]
  },
  {
   "cell_type": "markdown",
   "metadata": {},
   "source": [
    "# 8) Evaluate the cost function \n",
    "Write a function that evaluates the cost function for a given dataset `X`, centroid placement `C`, and assignment matrix `gamma`. The cost function is the sum of the squared distances from each point (row in `X`) to its assigned centroid (row in `C`). The function should return `np.nan` if `C` is `None`."
   ]
  },
  {
   "cell_type": "code",
   "execution_count": 20,
   "metadata": {
    "execution": {
     "iopub.execute_input": "2023-09-26T17:03:48.327529Z",
     "iopub.status.busy": "2023-09-26T17:03:48.327128Z",
     "iopub.status.idle": "2023-09-26T17:03:48.331811Z",
     "shell.execute_reply": "2023-09-26T17:03:48.331370Z"
    },
    "tags": []
   },
   "outputs": [],
   "source": [
    "def eval_cost(X,C,gamma):\n",
    "    if C is None:\n",
    "        return np.nan\n",
    "    dist = np.array([])\n",
    "    K = C.shape[0]   # TODO\n",
    "    for k in range(K):\n",
    "        idx = np.where(gamma[:,k] == True)[:][0]\n",
    "        dist = np.append(dist, euc_dist(X[idx,:], C[k]))\n",
    "    cost = np.sum(dist**2)   # TODO\n",
    "    return cost"
   ]
  },
  {
   "cell_type": "code",
   "execution_count": 21,
   "metadata": {
    "execution": {
     "iopub.execute_input": "2023-09-26T17:03:48.333874Z",
     "iopub.status.busy": "2023-09-26T17:03:48.333708Z",
     "iopub.status.idle": "2023-09-26T17:03:48.336496Z",
     "shell.execute_reply": "2023-09-26T17:03:48.336066Z"
    },
    "tags": []
   },
   "outputs": [],
   "source": [
    "J4 = eval_cost(X,optC4,optgamma4)\n",
    "J10 = eval_cost(X,optC8,optgamma8)"
   ]
  },
  {
   "cell_type": "code",
   "execution_count": 22,
   "metadata": {
    "deletable": false,
    "editable": false
   },
   "outputs": [
    {
     "data": {
      "text/html": [
       "<p><strong><pre style='display: inline;'>q8</pre></strong> passed! 🎉</p>"
      ],
      "text/plain": [
       "q8 results: All test cases passed!"
      ]
     },
     "execution_count": 22,
     "metadata": {},
     "output_type": "execute_result"
    }
   ],
   "source": [
    "grader.check(\"q8\")"
   ]
  },
  {
   "cell_type": "markdown",
   "metadata": {},
   "source": [
    "# 9) Ensemble run\n",
    "Write a function that runs K-means multiple times, each with a different initial centroid placement. These initial placements should be chosen with `initialize_centroids(K,X)`. The function returns `best_run`, which is a dictionary containing the centroids (`C`), cost (`cost`), and assignment matrix (`gamma`) for the best of the ensemble of runs. \n",
    "\n",
    "Note that the function also takes `random_seed` as a fourth argument. This is used by the autograder to ensure repeatability of the results. You should **not** pass `random_seed` to `initialize_centroids`."
   ]
  },
  {
   "cell_type": "code",
   "execution_count": 23,
   "metadata": {
    "execution": {
     "iopub.execute_input": "2023-09-26T17:03:48.350193Z",
     "iopub.status.busy": "2023-09-26T17:03:48.350028Z",
     "iopub.status.idle": "2023-09-26T17:03:48.356348Z",
     "shell.execute_reply": "2023-09-26T17:03:48.355756Z"
    },
    "tags": []
   },
   "outputs": [],
   "source": [
    "def ensemble_run(K,X,ensemblesize,random_seed=None):\n",
    "    if random_seed is not None:\n",
    "        np.random.seed(seed=random_seed)\n",
    "    costold = np.inf\n",
    "    best_run = {'C':None,'gamma':None,'cost':None}\n",
    "    for e in range(ensemblesize):\n",
    "        \n",
    "        # Run Kmeans with K randomly initialized centroids\n",
    "        # If an empty cluster is obtained, then repeat, and keep on repeating\n",
    "        # until the result has no empty clusters\n",
    "        # C = initialize_centroids(K,X)\n",
    "        # C, gamma = run_kmeans(X,C)   # TODO\n",
    "        C = None\n",
    "        while C is None:\n",
    "            C = initialize_centroids(K,X)\n",
    "            C, gamma = run_kmeans(X,C)\n",
    "\n",
    "        # Evaluate the cost function \n",
    "        cost = eval_cost(X,C,gamma)   # TODO\n",
    "\n",
    "        # Check whether this is the best result obtained so far, \n",
    "        # and if so, store it in best_run.\n",
    "        if e==0 or cost < best_run['cost']:\n",
    "            best_run['C'] = C\n",
    "            best_run['gamma'] = gamma\n",
    "            best_run['cost'] = cost\n",
    "            # TODO\n",
    "        costold = cost\n",
    "  \n",
    "    return best_run"
   ]
  },
  {
   "cell_type": "code",
   "execution_count": 24,
   "metadata": {
    "execution": {
     "iopub.execute_input": "2023-09-26T17:03:48.358411Z",
     "iopub.status.busy": "2023-09-26T17:03:48.358244Z",
     "iopub.status.idle": "2023-09-26T17:03:48.933690Z",
     "shell.execute_reply": "2023-09-26T17:03:48.933099Z"
    },
    "tags": []
   },
   "outputs": [],
   "source": [
    "best_run_K4 = ensemble_run(4,X,ensemblesize=100,random_seed=5423)\n",
    "\n",
    "# sort the result for the autograder to work\n",
    "ind = np.argsort(np.linalg.norm(best_run_K4['C'],axis=1))\n",
    "best_run_K4['C'] = best_run_K4['C'][ind,:]\n",
    "best_run_K4['gamma'] = best_run_K4['gamma'][:,ind]"
   ]
  },
  {
   "cell_type": "code",
   "execution_count": 25,
   "metadata": {
    "deletable": false,
    "editable": false
   },
   "outputs": [
    {
     "data": {
      "text/html": [
       "<p><strong><pre style='display: inline;'>q9</pre></strong> passed! ✨</p>"
      ],
      "text/plain": [
       "q9 results: All test cases passed!"
      ]
     },
     "execution_count": 25,
     "metadata": {},
     "output_type": "execute_result"
    }
   ],
   "source": [
    "grader.check(\"q9\")"
   ]
  },
  {
   "cell_type": "markdown",
   "metadata": {},
   "source": [
    "# 10) Iteration over K\n",
    "Complete the function below that takes the data matrix `X`, an ensemble size `ensemblesize`, and a maximum number of clusters to consider (`maxK`).  The function should run `ensemble_run` for all values of `K` from 1 to `maxK`, and return a numpy array of length `maxK` with the best case cost for each value of `K`. \n",
    "\n",
    "A random seed is passed in to the function for the autograder. Please pass this seed on to the `ensemble_run` function."
   ]
  },
  {
   "cell_type": "code",
   "execution_count": 26,
   "metadata": {
    "execution": {
     "iopub.execute_input": "2023-09-26T17:03:48.954486Z",
     "iopub.status.busy": "2023-09-26T17:03:48.954307Z",
     "iopub.status.idle": "2023-09-26T17:03:48.958922Z",
     "shell.execute_reply": "2023-09-26T17:03:48.958429Z"
    },
    "tags": []
   },
   "outputs": [],
   "source": [
    "def K_iteration(X, ensemblesize, maxK,random_seed=None):\n",
    "    if random_seed is not None:\n",
    "        np.random.seed(seed=random_seed)\n",
    "    best_cost = np.empty(maxK)\n",
    "    for ind, K in enumerate(range(1,maxK+1)):   # TODO\n",
    "        ensemble_run(K,X,ensemblesize,random_seed=None)\n",
    "        print(K)\n",
    "        best_cost[ind] = ensemble_run(K,X,ensemblesize,random_seed)['cost']\n",
    "        # TODO\n",
    "    return best_cost"
   ]
  },
  {
   "cell_type": "code",
   "execution_count": 27,
   "metadata": {
    "execution": {
     "iopub.execute_input": "2023-09-26T17:03:48.961030Z",
     "iopub.status.busy": "2023-09-26T17:03:48.960833Z",
     "iopub.status.idle": "2023-09-26T17:03:56.239043Z",
     "shell.execute_reply": "2023-09-26T17:03:56.238479Z"
    },
    "tags": []
   },
   "outputs": [
    {
     "name": "stdout",
     "output_type": "stream",
     "text": [
      "1\n",
      "2\n",
      "3\n",
      "4\n",
      "5\n",
      "6\n",
      "7\n",
      "8\n",
      "9\n",
      "10\n"
     ]
    }
   ],
   "source": [
    "ensemblesize=100\n",
    "maxK=10\n",
    "best_cost = K_iteration(X, ensemblesize, maxK,random_seed=452)"
   ]
  },
  {
   "cell_type": "code",
   "execution_count": 28,
   "metadata": {
    "deletable": false,
    "editable": false
   },
   "outputs": [
    {
     "data": {
      "text/html": [
       "<p><strong><pre style='display: inline;'>q10</pre></strong> passed! 💯</p>"
      ],
      "text/plain": [
       "q10 results: All test cases passed!"
      ]
     },
     "execution_count": 28,
     "metadata": {},
     "output_type": "execute_result"
    }
   ],
   "source": [
    "grader.check(\"q10\")"
   ]
  },
  {
   "cell_type": "markdown",
   "metadata": {},
   "source": [
    "# 11) Selecting K\n",
    "\n",
    "Running the cell below will produce a plot showing the performance of the algorithm for different values of `K` ranging from 1 to 10 (calculated in the previous part). The top row shows the intertia cost function, which naturally decreases monotonically with increasing `K`. The bottom plot shows the percentage improvement from one value of `K` to the next. What is the best value of `K` to choose according to these plots? "
   ]
  },
  {
   "cell_type": "code",
   "execution_count": 29,
   "metadata": {
    "execution": {
     "iopub.execute_input": "2023-09-26T17:03:56.247728Z",
     "iopub.status.busy": "2023-09-26T17:03:56.247420Z",
     "iopub.status.idle": "2023-09-26T17:03:56.531004Z",
     "shell.execute_reply": "2023-09-26T17:03:56.530493Z"
    }
   },
   "outputs": [
    {
     "data": {
      "text/plain": [
       "Text(0.5, 0, 'K')"
      ]
     },
     "execution_count": 29,
     "metadata": {},
     "output_type": "execute_result"
    },
    {
     "data": {
      "image/png": "[encoded data removed]",
      "text/plain": [
       "<Figure size 800x500 with 2 Axes>"
      ]
     },
     "metadata": {},
     "output_type": "display_data"
    }
   ],
   "source": [
    "fig, ax = plt.subplots(figsize=(8,5),nrows=2,sharex=True)\n",
    "\n",
    "ax[0].plot(range(1,maxK+1),best_cost,\n",
    "         linewidth=3,\n",
    "         marker='o',\n",
    "         markersize=8)\n",
    "ax[0].grid()\n",
    "ax[0].set_ylabel('Inertia')\n",
    "\n",
    "ax[1].plot(range(2,maxK+1),100*np.abs(np.diff(best_cost)) / best_cost[1:],\n",
    "         linewidth=3,\n",
    "         marker='o',\n",
    "         markersize=8)\n",
    "ax[1].grid()\n",
    "ax[1].set_ylabel('Inertia improvement')\n",
    "ax[1].set_xlabel('K')"
   ]
  },
  {
   "cell_type": "code",
   "execution_count": 30,
   "metadata": {
    "execution": {
     "iopub.execute_input": "2023-09-26T17:03:56.533832Z",
     "iopub.status.busy": "2023-09-26T17:03:56.533650Z",
     "iopub.status.idle": "2023-09-26T17:03:56.537184Z",
     "shell.execute_reply": "2023-09-26T17:03:56.536676Z"
    },
    "tags": []
   },
   "outputs": [],
   "source": [
    "Kideal = 4   # TODO"
   ]
  },
  {
   "cell_type": "code",
   "execution_count": 31,
   "metadata": {
    "deletable": false,
    "editable": false
   },
   "outputs": [
    {
     "data": {
      "text/html": [
       "<p><strong><pre style='display: inline;'>q11</pre></strong> passed! 🌈</p>"
      ],
      "text/plain": [
       "q11 results: All test cases passed!"
      ]
     },
     "execution_count": 31,
     "metadata": {},
     "output_type": "execute_result"
    }
   ],
   "source": [
    "grader.check(\"q11\")"
   ]
  },
  {
   "cell_type": "markdown",
   "metadata": {
    "deletable": false,
    "editable": false
   },
   "source": [
    "## Submission\n",
    "\n",
    "Make sure you have run all cells in your notebook in order before running the cell below, so that all images/graphs appear in the output. The cell below will generate a zip file for you to submit. **Please save before exporting!**"
   ]
  },
  {
   "cell_type": "code",
   "execution_count": null,
   "metadata": {
    "deletable": false,
    "editable": false
   },
   "outputs": [],
   "source": [
    "# Save your notebook first, then run this cell to export your submission.\n",
    "grader.export(pdf=False)"
   ]
  },
  {
   "cell_type": "markdown",
   "metadata": {},
   "source": [
    " "
   ]
  }
 ],
 "metadata": {
  "kernelspec": {
   "display_name": "Python 3 (ipykernel)",
   "language": "python",
   "name": "python3"
  },
  "language_info": {
   "codemirror_mode": {
    "name": "ipython",
    "version": 3
   },
   "file_extension": ".py",
   "mimetype": "text/x-python",
   "name": "python",
   "nbconvert_exporter": "python",
   "pygments_lexer": "ipython3",
   "version": "3.9.12"
  },
  "otter": {
   "OK_FORMAT": true,
   "tests": {
    "q1": {
     "name": "q1",
     "points": null,
     "suites": [
      {
       "cases": [
        {
         "code": ">>> N==100 and D==2\nTrue",
         "hidden": false,
         "locked": false,
         "points": 1
        }
       ],
       "scored": true,
       "setup": "",
       "teardown": "",
       "type": "doctest"
      }
     ]
    },
    "q10": {
     "name": "q10",
     "points": null,
     "suites": [
      {
       "cases": [
        {
         "code": ">>> np.all(np.isclose(best_cost,np.array([2895.67902369,  981.02477219,  616.56731334,  265.58230558,\n...         223.91615237,  192.59481366,  162.47747163,  142.77422271,\n...         126.07926529,  112.32417365])))\nTrue",
         "hidden": false,
         "locked": false,
         "points": 2
        }
       ],
       "scored": true,
       "setup": "",
       "teardown": "",
       "type": "doctest"
      }
     ]
    },
    "q11": {
     "name": "q11",
     "points": null,
     "suites": [
      {
       "cases": [
        {
         "code": ">>> Kideal == 4\nTrue",
         "hidden": false,
         "locked": false,
         "points": 1
        }
       ],
       "scored": true,
       "setup": "",
       "teardown": "",
       "type": "doctest"
      }
     ]
    },
    "q3": {
     "name": "q3",
     "points": null,
     "suites": [
      {
       "cases": [
        {
         "code": ">>> np.all(np.isclose(C4,np.array([[-10.8395711 ,  -1.75265235],\n...        [ -8.05364821,   5.32904513],\n...        [  0.15658959,   7.95416692],\n...        [  0.87733571,   4.40057558]]),1e-3))\nTrue",
         "hidden": false,
         "locked": false,
         "points": 1
        },
        {
         "code": ">>> np.all(np.isclose(C8,np.array([[-4.89188176,  7.71937049],\n...        [-3.35957754,  3.81687063],\n...        [-2.67324835, -3.41980139],\n...        [ 1.06844648,  7.32753667],\n...        [-0.41543367,  0.92345392],\n...        [-0.89173646,  2.72850835],\n...        [-2.28524226,  5.16074095],\n...        [-3.77139276,  8.13414145]]),1e-3))\nTrue",
         "hidden": false,
         "locked": false,
         "points": 1
        }
       ],
       "scored": true,
       "setup": "",
       "teardown": "",
       "type": "doctest"
      }
     ]
    },
    "q4": {
     "name": "q4",
     "points": null,
     "suites": [
      {
       "cases": [
        {
         "code": ">>> np.all(np.where(gamma4[:,0])[0] == np.array([ 1,  3,  5, 10, 13, 18, 22, 25, 27, 31, 35, 38, 39, 41, 42, 47, 53,\n...        55, 65, 67, 70, 71, 77, 86, 94, 98]))\nTrue",
         "hidden": false,
         "locked": false,
         "points": 1
        },
        {
         "code": ">>> np.all(np.where(gamma4[:,1])[0] == np.array([ 2,  6,  9, 12, 17, 20, 23, 24, 26, 28, 32, 33, 40, 43, 44, 46, 48,\n...        51, 56, 57, 58, 60, 61, 64, 68, 69, 72, 75, 76, 78, 80, 81, 84, 89,\n...        90, 91, 95, 96]))\nTrue",
         "hidden": false,
         "locked": false,
         "points": 1
        },
        {
         "code": ">>> np.all(np.where(gamma8[:,0])[0] == np.array([ 6,  9, 12, 17, 20, 23, 24, 28, 32, 46, 48, 51, 56, 57, 58, 60, 61,\n...        64, 68, 69, 72, 75, 80, 89, 90, 91, 96]))\nTrue",
         "hidden": false,
         "locked": false,
         "points": 1
        },
        {
         "code": ">>> np.all(np.where(gamma8[:,1])[0] == np.array([ 2, 11, 18, 25, 26, 29, 33, 40, 43, 54, 62, 65, 67, 76, 78, 81, 84, 92, 94, 95]))\nTrue",
         "hidden": false,
         "locked": false,
         "points": 1
        }
       ],
       "scored": true,
       "setup": "",
       "teardown": "",
       "type": "doctest"
      }
     ]
    },
    "q6": {
     "name": "q6",
     "points": null,
     "suites": [
      {
       "cases": [
        {
         "code": ">>> np.all(np.isclose(newC4,np.array([[-6.13653527, -1.60252754],\n...        [-7.39643996,  6.51996032],\n...        [-2.9212051 ,  6.22055446],\n...        [-1.56396103, -1.18061685]]),1e-3))\nTrue",
         "hidden": false,
         "locked": false,
         "points": 1
        },
        {
         "code": ">>> np.all(np.isclose(newC8[:3,:],np.array([[-8.43821088,  7.2752506 ],\n...        [-5.17362655,  3.0960672 ],\n...        [-3.30674942, -2.56457236]]),1e-3))\nTrue",
         "hidden": false,
         "locked": false,
         "points": 1
        },
        {
         "code": ">>> np.all(np.where(np.isnan(newC8[:,0]))[0]==np.array([3, 4, 5, 7]))\nTrue",
         "hidden": false,
         "locked": false,
         "points": 1
        }
       ],
       "scored": true,
       "setup": "",
       "teardown": "",
       "type": "doctest"
      }
     ]
    },
    "q7": {
     "name": "q7",
     "points": null,
     "suites": [
      {
       "cases": [
        {
         "code": ">>> np.all(np.isclose(optC4,np.array([[-6.37194325, -1.42726545],\n...         [-8.73054661,  7.38064932],\n...         [-3.80111472,  4.63859539],\n...         [-1.33733821, -3.09356399]]),1e-3))\nTrue",
         "hidden": false,
         "locked": false,
         "points": 3
        },
        {
         "code": ">>> (optC8 is None) and (optgamma8 is None)\nTrue",
         "hidden": false,
         "locked": false,
         "points": 3
        }
       ],
       "scored": true,
       "setup": "",
       "teardown": "",
       "type": "doctest"
      }
     ]
    },
    "q8": {
     "name": "q8",
     "points": null,
     "suites": [
      {
       "cases": [
        {
         "code": ">>> np.isclose(J4,265.5823055768351,1e-3)\nTrue",
         "hidden": false,
         "locked": false,
         "points": 1
        },
        {
         "code": ">>> np.isnan(J10)\nTrue",
         "hidden": false,
         "locked": false,
         "points": 1
        }
       ],
       "scored": true,
       "setup": "",
       "teardown": "",
       "type": "doctest"
      }
     ]
    },
    "q9": {
     "name": "q9",
     "points": null,
     "suites": [
      {
       "cases": [
        {
         "code": ">>> np.all(np.isclose(best_run_K4['C'][np.argsort(np.linalg.norm(best_run_K4['C'],axis=1)),:],\n...        np.array([[-1.33733821, -3.09356399],\n...        [-3.80111472,  4.63859539],\n...        [-6.37194325, -1.42726545],\n...        [-8.73054661,  7.38064932]]),1e-3))\nTrue",
         "hidden": false,
         "locked": false,
         "points": 1
        },
        {
         "code": ">>> np.all(np.where(best_run_K4['gamma'][:,3])[0]==np.array([ 6,  9, 12, 17, 20, 23, 24, 28, 32, 48, 51, 56, 57, 58, 60, 61, 64,\n...        69, 72, 75, 80, 89, 90, 91, 96]))\nTrue",
         "hidden": false,
         "locked": false,
         "points": 1
        },
        {
         "code": ">>> np.isclose(best_run_K4['cost'],265.5823055768351,1e-3)\nTrue",
         "hidden": false,
         "locked": false,
         "points": 2
        }
       ],
       "scored": true,
       "setup": "",
       "teardown": "",
       "type": "doctest"
      }
     ]
    }
   }
  }
 },
 "nbformat": 4,
 "nbformat_minor": 2
}
