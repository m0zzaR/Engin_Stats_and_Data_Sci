{
 "cells": [
  {
   "cell_type": "code",
   "execution_count": null,
   "id": "28e67154",
   "metadata": {},
   "outputs": [],
   "source": [
    "import numpy as np"
   ]
  },
  {
   "cell_type": "markdown",
   "id": "bf27eda4",
   "metadata": {},
   "source": [
    "# Load the data into pandas"
   ]
  },
  {
   "cell_type": "code",
   "execution_count": null,
   "id": "3d5fa34a",
   "metadata": {},
   "outputs": [],
   "source": [
    "from sklearn import datasets\n",
    "df = datasets.load_diabetes(as_frame=True)\n",
    "df = df['frame']\n",
    "df"
   ]
  },
  {
   "cell_type": "markdown",
   "id": "f1ebca3a",
   "metadata": {},
   "source": [
    "# Pandas indexing demo"
   ]
  },
  {
   "cell_type": "markdown",
   "id": "e2414353",
   "metadata": {},
   "source": [
    "### Square brackets []"
   ]
  },
  {
   "cell_type": "code",
   "execution_count": null,
   "id": "abea0260",
   "metadata": {},
   "outputs": [],
   "source": []
  },
  {
   "cell_type": "markdown",
   "id": "573ed0e4",
   "metadata": {},
   "source": [
    "### .loc[]"
   ]
  },
  {
   "cell_type": "code",
   "execution_count": null,
   "id": "0eca0ff6",
   "metadata": {},
   "outputs": [],
   "source": []
  },
  {
   "cell_type": "markdown",
   "id": "0c81b71f",
   "metadata": {},
   "source": [
    "# Extract inputs and outputs"
   ]
  },
  {
   "cell_type": "code",
   "execution_count": null,
   "id": "a4743757",
   "metadata": {},
   "outputs": [],
   "source": [
    "features = ['age', 'sex', 'bmi', 'bp', 's1', 's2', 's3', 's4', 's5', 's6']\n",
    "X = df[features].values\n",
    "y = df['target'].values"
   ]
  },
  {
   "cell_type": "markdown",
   "id": "7aa525b6",
   "metadata": {},
   "source": [
    "# Train test split"
   ]
  },
  {
   "cell_type": "code",
   "execution_count": null,
   "id": "388bb057",
   "metadata": {},
   "outputs": [],
   "source": [
    "from sklearn.model_selection import train_test_split\n",
    "\n",
    "Xtrain, Xtest, ytrain, ytest = train_test_split( X, y, test_size=0.2, random_state=7265)"
   ]
  },
  {
   "cell_type": "markdown",
   "id": "eaf3d5fb",
   "metadata": {},
   "source": [
    "## Seaborn plots\n",
    "`pip install seaborn`"
   ]
  },
  {
   "cell_type": "code",
   "execution_count": null,
   "id": "1a66894e",
   "metadata": {},
   "outputs": [],
   "source": [
    "import matplotlib.pyplot as plt\n",
    "import seaborn as sns"
   ]
  },
  {
   "cell_type": "markdown",
   "id": "1b21bf0e",
   "metadata": {},
   "source": [
    "### Correlation pair plot"
   ]
  },
  {
   "cell_type": "code",
   "execution_count": null,
   "id": "63f82e62",
   "metadata": {},
   "outputs": [],
   "source": [
    "sns.pairplot(df)"
   ]
  },
  {
   "cell_type": "markdown",
   "id": "2feda01e",
   "metadata": {},
   "source": [
    "### Correlation heat map"
   ]
  },
  {
   "cell_type": "code",
   "execution_count": null,
   "id": "c698490b",
   "metadata": {},
   "outputs": [],
   "source": [
    "plt.figure(figsize=(20,20))\n",
    "sns.heatmap(abs(df.corr()), annot=True, cmap='gray')"
   ]
  },
  {
   "cell_type": "markdown",
   "id": "11c75b38",
   "metadata": {},
   "source": [
    "# Linear regression"
   ]
  },
  {
   "cell_type": "code",
   "execution_count": null,
   "id": "22d515c8",
   "metadata": {},
   "outputs": [],
   "source": [
    "from sklearn.linear_model import LinearRegression \n",
    "\n",
    "model = LinearRegression()\n",
    "model.fit(Xtrain, ytrain)\n",
    "\n",
    "model.intercept_, model.coef_"
   ]
  },
  {
   "cell_type": "markdown",
   "id": "aa526f25",
   "metadata": {},
   "source": [
    "# Test"
   ]
  },
  {
   "cell_type": "code",
   "execution_count": null,
   "id": "35e65517",
   "metadata": {},
   "outputs": [],
   "source": [
    "from sklearn.metrics import r2_score, mean_squared_error\n",
    "\n",
    "ypred = model.predict(Xtest)\n",
    "\n",
    "MSE = mean_squared_error(ytest, ypred)\n",
    "R2 = r2_score(ytest, ypred)\n",
    "\n",
    "R2, MSE"
   ]
  },
  {
   "cell_type": "markdown",
   "id": "f282a3f2",
   "metadata": {},
   "source": [
    "# Linear regression with normalized data and a pipeline"
   ]
  },
  {
   "cell_type": "code",
   "execution_count": null,
   "id": "3220216e",
   "metadata": {},
   "outputs": [],
   "source": [
    "from sklearn.preprocessing import StandardScaler\n",
    "from sklearn.pipeline import Pipeline\n",
    "\n",
    "pipeline = Pipeline([\n",
    "    ('scaler', StandardScaler()), \n",
    "    ('linreg', LinearRegression())\n",
    "])\n",
    "\n",
    "pipeline.fit(Xtrain, ytrain)"
   ]
  },
  {
   "cell_type": "markdown",
   "id": "c6450096",
   "metadata": {},
   "source": [
    "### Test the piple"
   ]
  },
  {
   "cell_type": "code",
   "execution_count": null,
   "id": "d975deed",
   "metadata": {},
   "outputs": [],
   "source": [
    "ypred = pipeline.predict(Xtest)\n",
    "R2 = r2_score(ytest, ypred)\n",
    "MSE = mean_squared_error(ytest, ypred)\n",
    "\n",
    "R2, MSE"
   ]
  },
  {
   "cell_type": "markdown",
   "id": "22bd0c10",
   "metadata": {},
   "source": [
    "### Extract pipeline parameters"
   ]
  },
  {
   "cell_type": "code",
   "execution_count": null,
   "id": "64a9f974",
   "metadata": {},
   "outputs": [],
   "source": [
    "scaler = pipeline.named_steps['scaler']\n",
    "\n",
    "scaler.mean_, scaler.scale_"
   ]
  },
  {
   "cell_type": "code",
   "execution_count": null,
   "id": "b2ceac45",
   "metadata": {},
   "outputs": [],
   "source": [
    "linreg = pipeline.named_steps['linreg']\n",
    "\n",
    "linreg.intercept_, linreg.coef_"
   ]
  },
  {
   "cell_type": "markdown",
   "id": "d6694c4c",
   "metadata": {},
   "source": [
    "# Linear regression with `statsmodels`\n",
    "`pip install statsmodels`"
   ]
  },
  {
   "cell_type": "code",
   "execution_count": null,
   "id": "9774a110",
   "metadata": {},
   "outputs": [],
   "source": [
    "import statsmodels.api as sm\n",
    "\n",
    "smmodel = sm.OLS(ytrain, sm.add_constant(Xtrain) ).fit()"
   ]
  },
  {
   "cell_type": "code",
   "execution_count": null,
   "id": "256c4b34",
   "metadata": {},
   "outputs": [],
   "source": [
    "smmodel.summary()"
   ]
  },
  {
   "cell_type": "code",
   "execution_count": null,
   "id": "560e0039",
   "metadata": {},
   "outputs": [],
   "source": [
    "ypred = smmodel.predict( sm.add_constant(Xtest))\n",
    "\n",
    "R2 = r2_score(ytest, ypred)\n",
    "MSE = mean_squared_error(ytest, ypred)\n",
    "\n",
    "R2, MSE"
   ]
  },
  {
   "cell_type": "markdown",
   "id": "9b68ec81",
   "metadata": {},
   "source": [
    "# Regularization"
   ]
  },
  {
   "cell_type": "markdown",
   "id": "aa2890b1",
   "metadata": {},
   "source": [
    "### LASSO"
   ]
  },
  {
   "cell_type": "code",
   "execution_count": null,
   "id": "5edf64dc",
   "metadata": {},
   "outputs": [],
   "source": [
    "from sklearn.linear_model import Lasso\n",
    "\n",
    "n = 100\n",
    "coef = np.empty((n,11))\n",
    "test_MSE = np.empty(n)\n",
    "lmbdas = np.logspace(-2,0.5,n)\n",
    "\n",
    "for i, lmbda in enumerate(lmbdas):\n",
    "    model = Lasso(alpha=lmbda).fit(Xtrain,ytrain)\n",
    "    ypred = model.predict(Xtest)\n",
    "    test_MSE[i] = mean_squared_error(ytest, ypred)\n",
    "    coef[i,0] = model.intercept_\n",
    "    coef[i,1:]= model.coef_"
   ]
  },
  {
   "cell_type": "code",
   "execution_count": null,
   "id": "3402914a",
   "metadata": {},
   "outputs": [],
   "source": [
    "fig, ax = plt.subplots(figsize=(10,8),ncols=1,nrows=2,sharex=True)\n",
    "\n",
    "ax[0].semilogx(lmbdas,coef[:,1:],linewidth=2)\n",
    "ax[0].grid()\n",
    "ax[0].legend(features,loc=(1.04,-0.5),fontsize=18)\n",
    "ax[1].semilogx(lmbdas, test_MSE,linewidth=2)\n",
    "ax[1].grid()\n",
    "ax[1].set_ylabel('MSE',fontsize=20)\n",
    "ax[1].set_xlabel('$\\lambda$',fontsize=24)\n",
    "ax[1].set_ylim(3000,5000)"
   ]
  },
  {
   "cell_type": "markdown",
   "id": "a67de85b",
   "metadata": {},
   "source": [
    "### Ridge regression"
   ]
  },
  {
   "cell_type": "code",
   "execution_count": null,
   "id": "8fbe1f3c",
   "metadata": {},
   "outputs": [],
   "source": [
    "from sklearn.linear_model import Ridge\n",
    "\n",
    "n = 100\n",
    "coef = np.empty((n,11))\n",
    "test_MSE = np.empty(n)\n",
    "lmbdas = np.logspace(-3,1,n)\n",
    "\n",
    "for i, lmbda in enumerate(lmbdas):\n",
    "    model = Ridge(alpha=lmbda).fit(Xtrain,ytrain)\n",
    "    ypred = model.predict(Xtest)\n",
    "    test_MSE[i] = mean_squared_error(ytest, ypred)\n",
    "    coef[i,0] = model.intercept_\n",
    "    coef[i,1:]= model.coef_"
   ]
  },
  {
   "cell_type": "code",
   "execution_count": null,
   "id": "a7bd4996",
   "metadata": {},
   "outputs": [],
   "source": [
    "fig, ax = plt.subplots(figsize=(10,8),ncols=1,nrows=2,sharex=True)\n",
    "\n",
    "ax[0].semilogx(lmbdas,coef[:,1:],linewidth=2)\n",
    "ax[0].grid()\n",
    "ax[0].legend(features,loc=(1.04,-0.5),fontsize=18)\n",
    "ax[1].semilogx(lmbdas, test_MSE,linewidth=2)\n",
    "ax[1].grid()\n",
    "ax[1].set_ylabel('MSE',fontsize=20)\n",
    "ax[1].set_xlabel('$\\lambda$',fontsize=24)\n",
    "ax[1].set_ylim(3000,4000)"
   ]
  },
  {
   "cell_type": "code",
   "execution_count": null,
   "id": "c96f4f15",
   "metadata": {},
   "outputs": [],
   "source": []
  }
 ],
 "metadata": {
  "kernelspec": {
   "display_name": "Python 3 (ipykernel)",
   "language": "python",
   "name": "python3"
  },
  "language_info": {
   "codemirror_mode": {
    "name": "ipython",
    "version": 3
   },
   "file_extension": ".py",
   "mimetype": "text/x-python",
   "name": "python",
   "nbconvert_exporter": "python",
   "pygments_lexer": "ipython3",
   "version": "3.10.12"
  }
 },
 "nbformat": 4,
 "nbformat_minor": 5
}
